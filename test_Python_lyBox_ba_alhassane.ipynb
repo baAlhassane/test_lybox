{
 "cells": [
  {
   "cell_type": "code",
   "execution_count": 25,
   "metadata": {
    "collapsed": true
   },
   "outputs": [],
   "source": [
    "# test lybox"
   ]
  },
  {
   "cell_type": "code",
   "execution_count": 26,
   "metadata": {
    "collapsed": true
   },
   "outputs": [],
   "source": [
    "def calc(arr,n1,n2):\n",
    "    #0 <= n1 <= n2 < len(arr).\n",
    "    if(0<=n1 and n1<=n2 and n2<len(arr)):\n",
    "        l=arr[n1:n2+1]\n",
    "        s=sum(l)\n",
    "        return s;\n",
    "        #for i in range(n2-n1+1):\n",
    "         #   sum+=arr[i]\n",
    "        #return sum  \n",
    "    #else:\n",
    "        #print(\" indice indéfini \")\n",
    "        \n",
    "    \n",
    "    "
   ]
  },
  {
   "cell_type": "code",
   "execution_count": null,
   "metadata": {
    "collapsed": true
   },
   "outputs": [],
   "source": []
  },
  {
   "cell_type": "code",
   "execution_count": 27,
   "metadata": {
    "collapsed": true
   },
   "outputs": [],
   "source": [
    "l=[1,2,3,4,5]"
   ]
  },
  {
   "cell_type": "code",
   "execution_count": 28,
   "metadata": {
    "collapsed": true
   },
   "outputs": [],
   "source": [
    "a=calc(l,2,4)"
   ]
  },
  {
   "cell_type": "code",
   "execution_count": 29,
   "metadata": {},
   "outputs": [
    {
     "data": {
      "text/plain": [
       "12"
      ]
     },
     "execution_count": 29,
     "metadata": {},
     "output_type": "execute_result"
    }
   ],
   "source": [
    "a"
   ]
  },
  {
   "cell_type": "code",
   "execution_count": 30,
   "metadata": {
    "collapsed": true
   },
   "outputs": [],
   "source": [
    "# def calc1(arr,n1,n2):\n",
    "#     try:\n",
    "#         l=arr[n1:n2+1]\n",
    "#         return sum(l)\n",
    "#     except IndexError :\n",
    "#         print(\"invalid index\")"
   ]
  },
  {
   "cell_type": "code",
   "execution_count": 31,
   "metadata": {},
   "outputs": [],
   "source": [
    "# b=calc1(l,2,7)\n",
    "# b"
   ]
  },
  {
   "cell_type": "code",
   "execution_count": 32,
   "metadata": {
    "collapsed": true
   },
   "outputs": [],
   "source": [
    "import re\n",
    "def ExtractRent(sentence):\n",
    "    s = re.findall(r' \\d+', sentence)\n",
    "    for i in s :\n",
    "        if len(str(i))>= 5:\n",
    "            return i\n",
    "           \n",
    "        if len(str(i))>= 4:\n",
    "            return int(i)*12\n",
    "       \n",
    "    return None"
   ]
  },
  {
   "cell_type": "code",
   "execution_count": null,
   "metadata": {
    "collapsed": true
   },
   "outputs": [],
   "source": [
    "#autre version de  ExtractRent\n",
    "def ExtractRent1(sentence):\n",
    "    s = re.findall(r' \\d+', sentence)\n",
    "    for i in s :\n",
    "        if len(str(i))>= 5:\n",
    "            return i\n",
    "        if len(str(i))>= 4:\n",
    "            return int(i)*12\n",
    "        return None"
   ]
  },
  {
   "cell_type": "code",
   "execution_count": 33,
   "metadata": {},
   "outputs": [
    {
     "name": "stdout",
     "output_type": "stream",
     "text": [
      "519\n"
     ]
    }
   ],
   "source": [
    "def ComputeJoinPoint(n1, n2):\n",
    "    sum1=n1\n",
    "    sum2=n2\n",
    "    while  (sum1<200000 and sum2<200000 ):\n",
    "        if sum1 == sum2 :\n",
    "            return sum1\n",
    "        for i in str(sum1):\n",
    "            n1 +=int(i)\n",
    "   \n",
    "        for i in str(sum2):\n",
    "            n2 +=int(i)\n",
    "        sum1=n1\n",
    "        sum2=n2\n",
    "\n",
    "\n",
    "a = ComputeJoinPoint(471, 480)\n",
    "print(a)"
   ]
  },
  {
   "cell_type": "code",
   "execution_count": 34,
   "metadata": {
    "collapsed": true
   },
   "outputs": [],
   "source": [
    "l1=l[1:100]"
   ]
  },
  {
   "cell_type": "code",
   "execution_count": 35,
   "metadata": {},
   "outputs": [
    {
     "data": {
      "text/plain": [
       "5"
      ]
     },
     "execution_count": 35,
     "metadata": {},
     "output_type": "execute_result"
    }
   ],
   "source": [
    "len(l)"
   ]
  },
  {
   "cell_type": "code",
   "execution_count": null,
   "metadata": {
    "collapsed": true
   },
   "outputs": [],
   "source": []
  },
  {
   "cell_type": "code",
   "execution_count": null,
   "metadata": {
    "collapsed": true
   },
   "outputs": [],
   "source": []
  },
  {
   "cell_type": "code",
   "execution_count": null,
   "metadata": {
    "collapsed": true
   },
   "outputs": [],
   "source": []
  },
  {
   "cell_type": "code",
   "execution_count": null,
   "metadata": {
    "collapsed": true
   },
   "outputs": [],
   "source": []
  }
 ],
 "metadata": {
  "kernelspec": {
   "display_name": "Python 3",
   "language": "python",
   "name": "python3"
  },
  "language_info": {
   "codemirror_mode": {
    "name": "ipython",
    "version": 3
   },
   "file_extension": ".py",
   "mimetype": "text/x-python",
   "name": "python",
   "nbconvert_exporter": "python",
   "pygments_lexer": "ipython3",
   "version": "3.6.3"
  }
 },
 "nbformat": 4,
 "nbformat_minor": 2
}
